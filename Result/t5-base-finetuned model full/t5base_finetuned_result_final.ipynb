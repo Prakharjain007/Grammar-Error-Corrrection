{
  "nbformat": 4,
  "nbformat_minor": 0,
  "metadata": {
    "colab": {
      "provenance": [],
      "gpuType": "T4"
    },
    "kernelspec": {
      "name": "python3",
      "display_name": "Python 3"
    },
    "language_info": {
      "name": "python"
    },
    "accelerator": "GPU"
  },
  "cells": [
    {
      "cell_type": "code",
      "source": [
        "pip install Levenshtein"
      ],
      "metadata": {
        "colab": {
          "base_uri": "https://localhost:8080/"
        },
        "id": "LwgsjyOzHhwy",
        "outputId": "c963b4f0-e1bb-4216-ac45-612e3459f958"
      },
      "execution_count": 1,
      "outputs": [
        {
          "output_type": "stream",
          "name": "stdout",
          "text": [
            "Requirement already satisfied: Levenshtein in /usr/local/lib/python3.10/dist-packages (0.23.0)\n",
            "Requirement already satisfied: rapidfuzz<4.0.0,>=3.1.0 in /usr/local/lib/python3.10/dist-packages (from Levenshtein) (3.4.0)\n"
          ]
        }
      ]
    },
    {
      "cell_type": "code",
      "source": [
        "pip install torch"
      ],
      "metadata": {
        "colab": {
          "base_uri": "https://localhost:8080/"
        },
        "id": "vfi0XK1DGQtO",
        "outputId": "642a5723-34f3-4cbe-a283-8ea9cbdf0d6b"
      },
      "execution_count": 2,
      "outputs": [
        {
          "output_type": "stream",
          "name": "stdout",
          "text": [
            "Requirement already satisfied: torch in /usr/local/lib/python3.10/dist-packages (2.1.0+cu118)\n",
            "Requirement already satisfied: filelock in /usr/local/lib/python3.10/dist-packages (from torch) (3.12.4)\n",
            "Requirement already satisfied: typing-extensions in /usr/local/lib/python3.10/dist-packages (from torch) (4.5.0)\n",
            "Requirement already satisfied: sympy in /usr/local/lib/python3.10/dist-packages (from torch) (1.12)\n",
            "Requirement already satisfied: networkx in /usr/local/lib/python3.10/dist-packages (from torch) (3.1)\n",
            "Requirement already satisfied: jinja2 in /usr/local/lib/python3.10/dist-packages (from torch) (3.1.2)\n",
            "Requirement already satisfied: fsspec in /usr/local/lib/python3.10/dist-packages (from torch) (2023.6.0)\n",
            "Requirement already satisfied: triton==2.1.0 in /usr/local/lib/python3.10/dist-packages (from torch) (2.1.0)\n",
            "Requirement already satisfied: MarkupSafe>=2.0 in /usr/local/lib/python3.10/dist-packages (from jinja2->torch) (2.1.3)\n",
            "Requirement already satisfied: mpmath>=0.19 in /usr/local/lib/python3.10/dist-packages (from sympy->torch) (1.3.0)\n"
          ]
        }
      ]
    },
    {
      "cell_type": "code",
      "source": [
        "from google.colab import drive\n",
        "drive.mount('/content/drive')"
      ],
      "metadata": {
        "colab": {
          "base_uri": "https://localhost:8080/"
        },
        "id": "ERvGqkQAQwog",
        "outputId": "d3c4f398-5b5c-4695-bbb5-e0301a57cada"
      },
      "execution_count": 3,
      "outputs": [
        {
          "output_type": "stream",
          "name": "stdout",
          "text": [
            "Drive already mounted at /content/drive; to attempt to forcibly remount, call drive.mount(\"/content/drive\", force_remount=True).\n"
          ]
        }
      ]
    },
    {
      "cell_type": "code",
      "source": [
        "pip install transformers[torch]"
      ],
      "metadata": {
        "colab": {
          "base_uri": "https://localhost:8080/"
        },
        "id": "vrPtNvkNGQob",
        "outputId": "886a0d93-b857-45ea-b229-a08b33019167"
      },
      "execution_count": 4,
      "outputs": [
        {
          "output_type": "stream",
          "name": "stdout",
          "text": [
            "Requirement already satisfied: transformers[torch] in /usr/local/lib/python3.10/dist-packages (4.34.1)\n",
            "Requirement already satisfied: filelock in /usr/local/lib/python3.10/dist-packages (from transformers[torch]) (3.12.4)\n",
            "Requirement already satisfied: huggingface-hub<1.0,>=0.16.4 in /usr/local/lib/python3.10/dist-packages (from transformers[torch]) (0.17.3)\n",
            "Requirement already satisfied: numpy>=1.17 in /usr/local/lib/python3.10/dist-packages (from transformers[torch]) (1.23.5)\n",
            "Requirement already satisfied: packaging>=20.0 in /usr/local/lib/python3.10/dist-packages (from transformers[torch]) (23.2)\n",
            "Requirement already satisfied: pyyaml>=5.1 in /usr/local/lib/python3.10/dist-packages (from transformers[torch]) (6.0.1)\n",
            "Requirement already satisfied: regex!=2019.12.17 in /usr/local/lib/python3.10/dist-packages (from transformers[torch]) (2023.6.3)\n",
            "Requirement already satisfied: requests in /usr/local/lib/python3.10/dist-packages (from transformers[torch]) (2.31.0)\n",
            "Requirement already satisfied: tokenizers<0.15,>=0.14 in /usr/local/lib/python3.10/dist-packages (from transformers[torch]) (0.14.1)\n",
            "Requirement already satisfied: safetensors>=0.3.1 in /usr/local/lib/python3.10/dist-packages (from transformers[torch]) (0.4.0)\n",
            "Requirement already satisfied: tqdm>=4.27 in /usr/local/lib/python3.10/dist-packages (from transformers[torch]) (4.66.1)\n",
            "Requirement already satisfied: torch!=1.12.0,>=1.10 in /usr/local/lib/python3.10/dist-packages (from transformers[torch]) (2.1.0+cu118)\n",
            "Requirement already satisfied: accelerate>=0.20.3 in /usr/local/lib/python3.10/dist-packages (from transformers[torch]) (0.23.0)\n",
            "Requirement already satisfied: psutil in /usr/local/lib/python3.10/dist-packages (from accelerate>=0.20.3->transformers[torch]) (5.9.5)\n",
            "Requirement already satisfied: fsspec in /usr/local/lib/python3.10/dist-packages (from huggingface-hub<1.0,>=0.16.4->transformers[torch]) (2023.6.0)\n",
            "Requirement already satisfied: typing-extensions>=3.7.4.3 in /usr/local/lib/python3.10/dist-packages (from huggingface-hub<1.0,>=0.16.4->transformers[torch]) (4.5.0)\n",
            "Requirement already satisfied: sympy in /usr/local/lib/python3.10/dist-packages (from torch!=1.12.0,>=1.10->transformers[torch]) (1.12)\n",
            "Requirement already satisfied: networkx in /usr/local/lib/python3.10/dist-packages (from torch!=1.12.0,>=1.10->transformers[torch]) (3.1)\n",
            "Requirement already satisfied: jinja2 in /usr/local/lib/python3.10/dist-packages (from torch!=1.12.0,>=1.10->transformers[torch]) (3.1.2)\n",
            "Requirement already satisfied: triton==2.1.0 in /usr/local/lib/python3.10/dist-packages (from torch!=1.12.0,>=1.10->transformers[torch]) (2.1.0)\n",
            "Requirement already satisfied: charset-normalizer<4,>=2 in /usr/local/lib/python3.10/dist-packages (from requests->transformers[torch]) (3.3.0)\n",
            "Requirement already satisfied: idna<4,>=2.5 in /usr/local/lib/python3.10/dist-packages (from requests->transformers[torch]) (3.4)\n",
            "Requirement already satisfied: urllib3<3,>=1.21.1 in /usr/local/lib/python3.10/dist-packages (from requests->transformers[torch]) (2.0.7)\n",
            "Requirement already satisfied: certifi>=2017.4.17 in /usr/local/lib/python3.10/dist-packages (from requests->transformers[torch]) (2023.7.22)\n",
            "Requirement already satisfied: MarkupSafe>=2.0 in /usr/local/lib/python3.10/dist-packages (from jinja2->torch!=1.12.0,>=1.10->transformers[torch]) (2.1.3)\n",
            "Requirement already satisfied: mpmath>=0.19 in /usr/local/lib/python3.10/dist-packages (from sympy->torch!=1.12.0,>=1.10->transformers[torch]) (1.3.0)\n"
          ]
        }
      ]
    },
    {
      "cell_type": "code",
      "source": [
        "import pandas as pd\n"
      ],
      "metadata": {
        "id": "tHb7iIb4GQkS"
      },
      "execution_count": 5,
      "outputs": []
    },
    {
      "cell_type": "code",
      "source": [
        "pip install scikit-learn"
      ],
      "metadata": {
        "colab": {
          "base_uri": "https://localhost:8080/"
        },
        "id": "20gEF_vbGvY_",
        "outputId": "89388d24-c268-4a97-efd5-46ef7c4704c9"
      },
      "execution_count": 6,
      "outputs": [
        {
          "output_type": "stream",
          "name": "stdout",
          "text": [
            "Requirement already satisfied: scikit-learn in /usr/local/lib/python3.10/dist-packages (1.2.2)\n",
            "Requirement already satisfied: numpy>=1.17.3 in /usr/local/lib/python3.10/dist-packages (from scikit-learn) (1.23.5)\n",
            "Requirement already satisfied: scipy>=1.3.2 in /usr/local/lib/python3.10/dist-packages (from scikit-learn) (1.11.3)\n",
            "Requirement already satisfied: joblib>=1.1.1 in /usr/local/lib/python3.10/dist-packages (from scikit-learn) (1.3.2)\n",
            "Requirement already satisfied: threadpoolctl>=2.0.0 in /usr/local/lib/python3.10/dist-packages (from scikit-learn) (3.2.0)\n"
          ]
        }
      ]
    },
    {
      "cell_type": "code",
      "source": [
        "df = pd.read_csv('/content/drive/MyDrive/dataset.csv', encoding='ISO-8859-1')\n",
        "df.shape\n",
        "\n",
        "half_size = len(df) // 5\n",
        "trimmed_df = df.head(half_size)\n",
        "trimmed_df.shape\n",
        "df=trimmed_df"
      ],
      "metadata": {
        "id": "VTsHO5CzGQmM"
      },
      "execution_count": 7,
      "outputs": []
    },
    {
      "cell_type": "code",
      "execution_count": 8,
      "metadata": {
        "colab": {
          "base_uri": "https://localhost:8080/"
        },
        "id": "Mqd0pGkuGL1o",
        "outputId": "dfe8f364-7019-469d-bbce-eb15d2f4967e"
      },
      "outputs": [
        {
          "output_type": "execute_result",
          "data": {
            "text/plain": [
              "((180000, 2), (20000, 2))"
            ]
          },
          "metadata": {},
          "execution_count": 8
        }
      ],
      "source": [
        "from sklearn.model_selection import train_test_split\n",
        "train_df, test_df = train_test_split(df, test_size=0.10, shuffle=True)\n",
        "train_df.shape, test_df.shape"
      ]
    },
    {
      "cell_type": "code",
      "source": [
        "half_size = len(test_df) // 20\n",
        "trimmed_df = test_df.head(half_size)\n",
        "trimmed_df.shape\n",
        "df=trimmed_df\n",
        "df.shape"
      ],
      "metadata": {
        "colab": {
          "base_uri": "https://localhost:8080/"
        },
        "id": "QB_iaY5B0siO",
        "outputId": "611901db-b2f9-4836-ed1c-e1a9d58cbc6c"
      },
      "execution_count": 9,
      "outputs": [
        {
          "output_type": "execute_result",
          "data": {
            "text/plain": [
              "(1000, 2)"
            ]
          },
          "metadata": {},
          "execution_count": 9
        }
      ]
    },
    {
      "cell_type": "code",
      "source": [
        "pip install sentencepiece\n"
      ],
      "metadata": {
        "colab": {
          "base_uri": "https://localhost:8080/"
        },
        "id": "72G3vc6q9on7",
        "outputId": "5f797367-0fe3-49f7-81e9-f552e01a83fc"
      },
      "execution_count": 10,
      "outputs": [
        {
          "output_type": "stream",
          "name": "stdout",
          "text": [
            "Requirement already satisfied: sentencepiece in /usr/local/lib/python3.10/dist-packages (0.1.99)\n"
          ]
        }
      ]
    },
    {
      "cell_type": "code",
      "source": [
        "import torch\n",
        "from transformers import T5Tokenizer, T5ForConditionalGeneration\n",
        "model_name = '/content/drive/MyDrive/t5base-finetuned'\n",
        "torch_device = 'cuda' if torch.cuda.is_available() else 'cpu'\n",
        "tokenizer = T5Tokenizer.from_pretrained(model_name)\n",
        "model = T5ForConditionalGeneration.from_pretrained(model_name).to(torch_device)\n"
      ],
      "metadata": {
        "colab": {
          "base_uri": "https://localhost:8080/"
        },
        "id": "1b6sWeVKG1U2",
        "outputId": "9390aa98-e002-47d6-a4e6-6bd555daac4c"
      },
      "execution_count": 11,
      "outputs": [
        {
          "output_type": "stream",
          "name": "stderr",
          "text": [
            "Special tokens have been added in the vocabulary, make sure the associated word embeddings are fine-tuned or trained.\n"
          ]
        }
      ]
    },
    {
      "cell_type": "code",
      "source": [
        "df.describe"
      ],
      "metadata": {
        "colab": {
          "base_uri": "https://localhost:8080/"
        },
        "id": "efDBVt3uyQbX",
        "outputId": "3cbb11ec-a884-4af5-a8ea-6c16ad9288e1"
      },
      "execution_count": 12,
      "outputs": [
        {
          "output_type": "execute_result",
          "data": {
            "text/plain": [
              "<bound method NDFrame.describe of                                                     input  \\\n",
              "132487  WGU Online University, Salt Lake City, UT. | O...   \n",
              "579     Thank you, Rando! Iâm always happy to find c...   \n",
              "110657  Can't do a screen shot a tthe moment as sit in...   \n",
              "30730   The second ad, called â765 Press Releases,â...   \n",
              "102551  Whilst the improvement in her Psoriasis is gre...   \n",
              "...                                                   ...   \n",
              "105829  A good variety in a diferent way to come to sh...   \n",
              "69014   If you see photos of the fun that were during ...   \n",
              "26939   James has playing in 237 career playoff with t...   \n",
              "63953   Comprising of paneled bath with shower attachm...   \n",
              "79500   A 12.5m wide x 37m Haven courtyard cover canop...   \n",
              "\n",
              "                                                   output  \n",
              "132487  WGU Online University, Salt Lake City, UT. | O...  \n",
              "579     Thank you, Rando! Iâm always happy to find c...  \n",
              "110657  Can't do a screen shot at the moment as sat in...  \n",
              "30730   The second ad, called â765 Press Releases,â...  \n",
              "102551  Whilst the improvement in her Psoriasis is gre...  \n",
              "...                                                   ...  \n",
              "105829  There are a few different ways to show this pr...  \n",
              "69014   To see photos of the fun that was had at last ...  \n",
              "26939   James has played in 237 career playoffs with t...  \n",
              "63953   Comprising of panelled bath with shower attach...  \n",
              "79500   A 12.5m wide x 37m Haven courtyard cover canop...  \n",
              "\n",
              "[1000 rows x 2 columns]>"
            ]
          },
          "metadata": {},
          "execution_count": 12
        }
      ]
    },
    {
      "cell_type": "code",
      "source": [
        "def correct_grammar(input_text,num_return_sequences=1):\n",
        "  device = torch.device(\"cuda\" if torch.cuda.is_available() else \"cuda\")\n",
        "  batch = tokenizer([input_text],truncation=True,padding='max_length',max_length=64, return_tensors=\"pt\").to(torch_device)\n",
        "  translated = model.generate(**batch,max_length=64,num_beams=4, num_return_sequences=num_return_sequences)\n",
        "  tgt_text = tokenizer.batch_decode(translated, skip_special_tokens=True)\n",
        "  return tgt_text[0]"
      ],
      "metadata": {
        "id": "_pMBujeMayYN"
      },
      "execution_count": 13,
      "outputs": []
    },
    {
      "cell_type": "code",
      "source": [],
      "metadata": {
        "id": "iMbnIgB01OCL"
      },
      "execution_count": 13,
      "outputs": []
    },
    {
      "cell_type": "code",
      "source": [
        "import pandas as pd\n",
        "\n",
        "# Create a new DataFrame by applying the function to each row of the original DataFrame 'df'\n",
        "new_df = df.copy()  # Copy the original DataFrame to a new one\n",
        "\n",
        "# Define the function to correct grammar\n",
        "def correct_grammar_for_row(row):\n",
        "    row['output_predicted'] = correct_grammar(row['input'], num_return_sequences=1)\n",
        "    return row\n",
        "\n",
        "# Apply the function to the new DataFrame\n",
        "new_df = new_df.apply(correct_grammar_for_row, axis=1)\n",
        "\n",
        "# Print the new DataFrame\n",
        "print(new_df)\n"
      ],
      "metadata": {
        "id": "TGReCRDIh4bC",
        "colab": {
          "base_uri": "https://localhost:8080/"
        },
        "outputId": "d140dc36-e86e-49cb-a4be-e84297ae4d33"
      },
      "execution_count": 14,
      "outputs": [
        {
          "output_type": "stream",
          "name": "stdout",
          "text": [
            "                                                    input  \\\n",
            "132487  WGU Online University, Salt Lake City, UT. | O...   \n",
            "579     Thank you, Rando! Iâm always happy to find c...   \n",
            "110657  Can't do a screen shot a tthe moment as sit in...   \n",
            "30730   The second ad, called â765 Press Releases,â...   \n",
            "102551  Whilst the improvement in her Psoriasis is gre...   \n",
            "...                                                   ...   \n",
            "105829  A good variety in a diferent way to come to sh...   \n",
            "69014   If you see photos of the fun that were during ...   \n",
            "26939   James has playing in 237 career playoff with t...   \n",
            "63953   Comprising of paneled bath with shower attachm...   \n",
            "79500   A 12.5m wide x 37m Haven courtyard cover canop...   \n",
            "\n",
            "                                                   output  \\\n",
            "132487  WGU Online University, Salt Lake City, UT. | O...   \n",
            "579     Thank you, Rando! Iâm always happy to find c...   \n",
            "110657  Can't do a screen shot at the moment as sat in...   \n",
            "30730   The second ad, called â765 Press Releases,â...   \n",
            "102551  Whilst the improvement in her Psoriasis is gre...   \n",
            "...                                                   ...   \n",
            "105829  There are a few different ways to show this pr...   \n",
            "69014   To see photos of the fun that was had at last ...   \n",
            "26939   James has played in 237 career playoffs with t...   \n",
            "63953   Comprising of panelled bath with shower attach...   \n",
            "79500   A 12.5m wide x 37m Haven courtyard cover canop...   \n",
            "\n",
            "                                         output_predicted  \n",
            "132487  WGU Online University, Salt Lake City, UT. | O...  \n",
            "579     Thank you, Rando! Iâm always happy to find com...  \n",
            "110657  Can't do a screen shot at the moment as I sit ...  \n",
            "30730   The second ad, called â765 Press Releases,â ag...  \n",
            "102551  Whilst the improvement in her Psoriasis is gre...  \n",
            "...                                                   ...  \n",
            "105829  A good variety of different ways to show these...  \n",
            "69014   If you see photos of the fun that was during L...  \n",
            "26939   James has played in 237 career playoff games w...  \n",
            "63953   Comprising of paneled bath with shower attachm...  \n",
            "79500   A 12.5m wide x 37m Haven courtyard cover canop...  \n",
            "\n",
            "[1000 rows x 3 columns]\n"
          ]
        }
      ]
    },
    {
      "cell_type": "code",
      "source": [
        "df.to_csv('datafinal-t5base.csv', index=False)  # Set index=False to exclude the index column\n"
      ],
      "metadata": {
        "id": "9qYzcuIA_BH8"
      },
      "execution_count": 18,
      "outputs": []
    },
    {
      "cell_type": "code",
      "source": [],
      "metadata": {
        "id": "bEvynjBj_WNC"
      },
      "execution_count": null,
      "outputs": []
    },
    {
      "cell_type": "code",
      "source": [],
      "metadata": {
        "id": "0-VIlIGI_zfz"
      },
      "execution_count": null,
      "outputs": []
    },
    {
      "cell_type": "code",
      "source": [],
      "metadata": {
        "id": "NPrg2yrJAQy-"
      },
      "execution_count": null,
      "outputs": []
    },
    {
      "cell_type": "code",
      "source": [],
      "metadata": {
        "id": "szWpfI1MAuFz"
      },
      "execution_count": null,
      "outputs": []
    },
    {
      "cell_type": "code",
      "source": [],
      "metadata": {
        "id": "3fH6RaH6BLY8"
      },
      "execution_count": null,
      "outputs": []
    },
    {
      "cell_type": "code",
      "source": [],
      "metadata": {
        "id": "lvkHA0P8Bor6"
      },
      "execution_count": null,
      "outputs": []
    },
    {
      "cell_type": "code",
      "source": [
        "import pandas as pd\n",
        "import Levenshtein\n",
        "\n",
        "\n",
        "\n",
        "# Function to calculate Levenshtein distance and similarity score\n",
        "def calculate_similarity(row):\n",
        "    original_output = row[\"output\"]\n",
        "    predicted_output = row[\"output_predicted\"]\n",
        "\n",
        "    # Calculate the Levenshtein distance\n",
        "    distance = Levenshtein.distance(original_output, predicted_output)\n",
        "\n",
        "    # Calculate a similarity score (normalized Levenshtein similarity)\n",
        "    max_len = max(len(original_output), len(predicted_output))\n",
        "    similarity = 1 - (distance / max_len)\n",
        "\n",
        "    return similarity\n",
        "\n",
        "# Apply the calculate_similarity function to each row and store the result in a new column\n",
        "new_df['similarity_score'] = new_df.apply(calculate_similarity, axis=1)\n",
        "\n",
        "# Print the DataFrame with the similarity scores\n",
        "print(new_df)"
      ],
      "metadata": {
        "id": "_mRyd1LnHq0-",
        "colab": {
          "base_uri": "https://localhost:8080/"
        },
        "outputId": "2ab21e17-94bc-49b7-fa98-5021601b52a4"
      },
      "execution_count": 15,
      "outputs": [
        {
          "output_type": "stream",
          "name": "stdout",
          "text": [
            "                                                    input  \\\n",
            "132487  WGU Online University, Salt Lake City, UT. | O...   \n",
            "579     Thank you, Rando! Iâm always happy to find c...   \n",
            "110657  Can't do a screen shot a tthe moment as sit in...   \n",
            "30730   The second ad, called â765 Press Releases,â...   \n",
            "102551  Whilst the improvement in her Psoriasis is gre...   \n",
            "...                                                   ...   \n",
            "105829  A good variety in a diferent way to come to sh...   \n",
            "69014   If you see photos of the fun that were during ...   \n",
            "26939   James has playing in 237 career playoff with t...   \n",
            "63953   Comprising of paneled bath with shower attachm...   \n",
            "79500   A 12.5m wide x 37m Haven courtyard cover canop...   \n",
            "\n",
            "                                                   output  \\\n",
            "132487  WGU Online University, Salt Lake City, UT. | O...   \n",
            "579     Thank you, Rando! Iâm always happy to find c...   \n",
            "110657  Can't do a screen shot at the moment as sat in...   \n",
            "30730   The second ad, called â765 Press Releases,â...   \n",
            "102551  Whilst the improvement in her Psoriasis is gre...   \n",
            "...                                                   ...   \n",
            "105829  There are a few different ways to show this pr...   \n",
            "69014   To see photos of the fun that was had at last ...   \n",
            "26939   James has played in 237 career playoffs with t...   \n",
            "63953   Comprising of panelled bath with shower attach...   \n",
            "79500   A 12.5m wide x 37m Haven courtyard cover canop...   \n",
            "\n",
            "                                         output_predicted  similarity_score  \n",
            "132487  WGU Online University, Salt Lake City, UT. | O...          0.833333  \n",
            "579     Thank you, Rando! Iâm always happy to find com...          0.806452  \n",
            "110657  Can't do a screen shot at the moment as I sit ...          0.907407  \n",
            "30730   The second ad, called â765 Press Releases,â ag...          0.936709  \n",
            "102551  Whilst the improvement in her Psoriasis is gre...          0.990566  \n",
            "...                                                   ...               ...  \n",
            "105829  A good variety of different ways to show these...          0.795918  \n",
            "69014   If you see photos of the fun that was during L...          0.797297  \n",
            "26939   James has played in 237 career playoff games w...          0.939759  \n",
            "63953   Comprising of paneled bath with shower attachm...          0.928058  \n",
            "79500   A 12.5m wide x 37m Haven courtyard cover canop...          0.903409  \n",
            "\n",
            "[1000 rows x 4 columns]\n"
          ]
        }
      ]
    },
    {
      "cell_type": "code",
      "source": [
        "average_similarity = new_df['similarity_score'].mean()\n",
        "print(average_similarity)"
      ],
      "metadata": {
        "id": "H5F0Z76Z9s40",
        "colab": {
          "base_uri": "https://localhost:8080/"
        },
        "outputId": "573df318-4d30-411f-83fe-bf11be2017a8"
      },
      "execution_count": 16,
      "outputs": [
        {
          "output_type": "stream",
          "name": "stdout",
          "text": [
            "0.8541912195931857\n"
          ]
        }
      ]
    },
    {
      "cell_type": "code",
      "source": [],
      "metadata": {
        "id": "Xs7KeohV8FfR"
      },
      "execution_count": 16,
      "outputs": []
    },
    {
      "cell_type": "code",
      "source": [],
      "metadata": {
        "id": "YaJxivol8FuS"
      },
      "execution_count": 16,
      "outputs": []
    }
  ]
}
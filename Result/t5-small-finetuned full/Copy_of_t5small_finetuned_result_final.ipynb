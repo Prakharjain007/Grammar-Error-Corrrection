{
  "nbformat": 4,
  "nbformat_minor": 0,
  "metadata": {
    "colab": {
      "provenance": [],
      "gpuType": "T4"
    },
    "kernelspec": {
      "name": "python3",
      "display_name": "Python 3"
    },
    "language_info": {
      "name": "python"
    },
    "accelerator": "GPU"
  },
  "cells": [
    {
      "cell_type": "code",
      "source": [
        "pip install Levenshtein"
      ],
      "metadata": {
        "colab": {
          "base_uri": "https://localhost:8080/"
        },
        "id": "LwgsjyOzHhwy",
        "outputId": "c113c860-e42b-4b0b-faa7-92051285b91d"
      },
      "execution_count": 1,
      "outputs": [
        {
          "output_type": "stream",
          "name": "stdout",
          "text": [
            "Collecting Levenshtein\n",
            "  Downloading Levenshtein-0.23.0-cp310-cp310-manylinux_2_17_x86_64.manylinux2014_x86_64.whl (169 kB)\n",
            "\u001b[2K     \u001b[90m━━━━━━━━━━━━━━━━━━━━━━━━━━━━━━━━━━━━━━━━\u001b[0m \u001b[32m169.4/169.4 kB\u001b[0m \u001b[31m2.6 MB/s\u001b[0m eta \u001b[36m0:00:00\u001b[0m\n",
            "\u001b[?25hCollecting rapidfuzz<4.0.0,>=3.1.0 (from Levenshtein)\n",
            "  Downloading rapidfuzz-3.4.0-cp310-cp310-manylinux_2_17_x86_64.manylinux2014_x86_64.whl (3.2 MB)\n",
            "\u001b[2K     \u001b[90m━━━━━━━━━━━━━━━━━━━━━━━━━━━━━━━━━━━━━━━━\u001b[0m \u001b[32m3.2/3.2 MB\u001b[0m \u001b[31m47.8 MB/s\u001b[0m eta \u001b[36m0:00:00\u001b[0m\n",
            "\u001b[?25hInstalling collected packages: rapidfuzz, Levenshtein\n",
            "Successfully installed Levenshtein-0.23.0 rapidfuzz-3.4.0\n"
          ]
        }
      ]
    },
    {
      "cell_type": "code",
      "source": [
        "pip install torch"
      ],
      "metadata": {
        "colab": {
          "base_uri": "https://localhost:8080/"
        },
        "id": "vfi0XK1DGQtO",
        "outputId": "f0e90395-151d-448f-f89d-3f37e8a2c32a"
      },
      "execution_count": 2,
      "outputs": [
        {
          "output_type": "stream",
          "name": "stdout",
          "text": [
            "Requirement already satisfied: torch in /usr/local/lib/python3.10/dist-packages (2.1.0+cu118)\n",
            "Requirement already satisfied: filelock in /usr/local/lib/python3.10/dist-packages (from torch) (3.12.4)\n",
            "Requirement already satisfied: typing-extensions in /usr/local/lib/python3.10/dist-packages (from torch) (4.5.0)\n",
            "Requirement already satisfied: sympy in /usr/local/lib/python3.10/dist-packages (from torch) (1.12)\n",
            "Requirement already satisfied: networkx in /usr/local/lib/python3.10/dist-packages (from torch) (3.1)\n",
            "Requirement already satisfied: jinja2 in /usr/local/lib/python3.10/dist-packages (from torch) (3.1.2)\n",
            "Requirement already satisfied: fsspec in /usr/local/lib/python3.10/dist-packages (from torch) (2023.6.0)\n",
            "Requirement already satisfied: triton==2.1.0 in /usr/local/lib/python3.10/dist-packages (from torch) (2.1.0)\n",
            "Requirement already satisfied: MarkupSafe>=2.0 in /usr/local/lib/python3.10/dist-packages (from jinja2->torch) (2.1.3)\n",
            "Requirement already satisfied: mpmath>=0.19 in /usr/local/lib/python3.10/dist-packages (from sympy->torch) (1.3.0)\n"
          ]
        }
      ]
    },
    {
      "cell_type": "code",
      "source": [
        "from google.colab import drive\n",
        "drive.mount('/content/drive')"
      ],
      "metadata": {
        "colab": {
          "base_uri": "https://localhost:8080/"
        },
        "id": "ERvGqkQAQwog",
        "outputId": "275d593f-8ea0-4a3b-c19a-d2144708defc"
      },
      "execution_count": 3,
      "outputs": [
        {
          "output_type": "stream",
          "name": "stdout",
          "text": [
            "Mounted at /content/drive\n"
          ]
        }
      ]
    },
    {
      "cell_type": "code",
      "source": [
        "pip install transformers[torch]"
      ],
      "metadata": {
        "colab": {
          "base_uri": "https://localhost:8080/"
        },
        "id": "vrPtNvkNGQob",
        "outputId": "d67ace1c-8eb4-45dd-9974-1c1513c7ff4c"
      },
      "execution_count": 4,
      "outputs": [
        {
          "output_type": "stream",
          "name": "stdout",
          "text": [
            "Collecting transformers[torch]\n",
            "  Downloading transformers-4.34.1-py3-none-any.whl (7.7 MB)\n",
            "\u001b[2K     \u001b[90m━━━━━━━━━━━━━━━━━━━━━━━━━━━━━━━━━━━━━━━━\u001b[0m \u001b[32m7.7/7.7 MB\u001b[0m \u001b[31m53.9 MB/s\u001b[0m eta \u001b[36m0:00:00\u001b[0m\n",
            "\u001b[?25hRequirement already satisfied: filelock in /usr/local/lib/python3.10/dist-packages (from transformers[torch]) (3.12.4)\n",
            "Collecting huggingface-hub<1.0,>=0.16.4 (from transformers[torch])\n",
            "  Downloading huggingface_hub-0.18.0-py3-none-any.whl (301 kB)\n",
            "\u001b[2K     \u001b[90m━━━━━━━━━━━━━━━━━━━━━━━━━━━━━━━━━━━━━━━━\u001b[0m \u001b[32m302.0/302.0 kB\u001b[0m \u001b[31m36.2 MB/s\u001b[0m eta \u001b[36m0:00:00\u001b[0m\n",
            "\u001b[?25hRequirement already satisfied: numpy>=1.17 in /usr/local/lib/python3.10/dist-packages (from transformers[torch]) (1.23.5)\n",
            "Requirement already satisfied: packaging>=20.0 in /usr/local/lib/python3.10/dist-packages (from transformers[torch]) (23.2)\n",
            "Requirement already satisfied: pyyaml>=5.1 in /usr/local/lib/python3.10/dist-packages (from transformers[torch]) (6.0.1)\n",
            "Requirement already satisfied: regex!=2019.12.17 in /usr/local/lib/python3.10/dist-packages (from transformers[torch]) (2023.6.3)\n",
            "Requirement already satisfied: requests in /usr/local/lib/python3.10/dist-packages (from transformers[torch]) (2.31.0)\n",
            "Collecting tokenizers<0.15,>=0.14 (from transformers[torch])\n",
            "  Downloading tokenizers-0.14.1-cp310-cp310-manylinux_2_17_x86_64.manylinux2014_x86_64.whl (3.8 MB)\n",
            "\u001b[2K     \u001b[90m━━━━━━━━━━━━━━━━━━━━━━━━━━━━━━━━━━━━━━━━\u001b[0m \u001b[32m3.8/3.8 MB\u001b[0m \u001b[31m66.2 MB/s\u001b[0m eta \u001b[36m0:00:00\u001b[0m\n",
            "\u001b[?25hCollecting safetensors>=0.3.1 (from transformers[torch])\n",
            "  Downloading safetensors-0.4.0-cp310-cp310-manylinux_2_17_x86_64.manylinux2014_x86_64.whl (1.3 MB)\n",
            "\u001b[2K     \u001b[90m━━━━━━━━━━━━━━━━━━━━━━━━━━━━━━━━━━━━━━━━\u001b[0m \u001b[32m1.3/1.3 MB\u001b[0m \u001b[31m56.2 MB/s\u001b[0m eta \u001b[36m0:00:00\u001b[0m\n",
            "\u001b[?25hRequirement already satisfied: tqdm>=4.27 in /usr/local/lib/python3.10/dist-packages (from transformers[torch]) (4.66.1)\n",
            "Requirement already satisfied: torch!=1.12.0,>=1.10 in /usr/local/lib/python3.10/dist-packages (from transformers[torch]) (2.1.0+cu118)\n",
            "Collecting accelerate>=0.20.3 (from transformers[torch])\n",
            "  Downloading accelerate-0.23.0-py3-none-any.whl (258 kB)\n",
            "\u001b[2K     \u001b[90m━━━━━━━━━━━━━━━━━━━━━━━━━━━━━━━━━━━━━━━━\u001b[0m \u001b[32m258.1/258.1 kB\u001b[0m \u001b[31m29.8 MB/s\u001b[0m eta \u001b[36m0:00:00\u001b[0m\n",
            "\u001b[?25hRequirement already satisfied: psutil in /usr/local/lib/python3.10/dist-packages (from accelerate>=0.20.3->transformers[torch]) (5.9.5)\n",
            "Requirement already satisfied: fsspec>=2023.5.0 in /usr/local/lib/python3.10/dist-packages (from huggingface-hub<1.0,>=0.16.4->transformers[torch]) (2023.6.0)\n",
            "Requirement already satisfied: typing-extensions>=3.7.4.3 in /usr/local/lib/python3.10/dist-packages (from huggingface-hub<1.0,>=0.16.4->transformers[torch]) (4.5.0)\n",
            "Collecting huggingface-hub<1.0,>=0.16.4 (from transformers[torch])\n",
            "  Downloading huggingface_hub-0.17.3-py3-none-any.whl (295 kB)\n",
            "\u001b[2K     \u001b[90m━━━━━━━━━━━━━━━━━━━━━━━━━━━━━━━━━━━━━━━━\u001b[0m \u001b[32m295.0/295.0 kB\u001b[0m \u001b[31m31.0 MB/s\u001b[0m eta \u001b[36m0:00:00\u001b[0m\n",
            "\u001b[?25hRequirement already satisfied: sympy in /usr/local/lib/python3.10/dist-packages (from torch!=1.12.0,>=1.10->transformers[torch]) (1.12)\n",
            "Requirement already satisfied: networkx in /usr/local/lib/python3.10/dist-packages (from torch!=1.12.0,>=1.10->transformers[torch]) (3.1)\n",
            "Requirement already satisfied: jinja2 in /usr/local/lib/python3.10/dist-packages (from torch!=1.12.0,>=1.10->transformers[torch]) (3.1.2)\n",
            "Requirement already satisfied: triton==2.1.0 in /usr/local/lib/python3.10/dist-packages (from torch!=1.12.0,>=1.10->transformers[torch]) (2.1.0)\n",
            "Requirement already satisfied: charset-normalizer<4,>=2 in /usr/local/lib/python3.10/dist-packages (from requests->transformers[torch]) (3.3.0)\n",
            "Requirement already satisfied: idna<4,>=2.5 in /usr/local/lib/python3.10/dist-packages (from requests->transformers[torch]) (3.4)\n",
            "Requirement already satisfied: urllib3<3,>=1.21.1 in /usr/local/lib/python3.10/dist-packages (from requests->transformers[torch]) (2.0.7)\n",
            "Requirement already satisfied: certifi>=2017.4.17 in /usr/local/lib/python3.10/dist-packages (from requests->transformers[torch]) (2023.7.22)\n",
            "Requirement already satisfied: MarkupSafe>=2.0 in /usr/local/lib/python3.10/dist-packages (from jinja2->torch!=1.12.0,>=1.10->transformers[torch]) (2.1.3)\n",
            "Requirement already satisfied: mpmath>=0.19 in /usr/local/lib/python3.10/dist-packages (from sympy->torch!=1.12.0,>=1.10->transformers[torch]) (1.3.0)\n",
            "Installing collected packages: safetensors, huggingface-hub, tokenizers, accelerate, transformers\n",
            "Successfully installed accelerate-0.23.0 huggingface-hub-0.17.3 safetensors-0.4.0 tokenizers-0.14.1 transformers-4.34.1\n"
          ]
        }
      ]
    },
    {
      "cell_type": "code",
      "source": [
        "import pandas as pd\n"
      ],
      "metadata": {
        "id": "tHb7iIb4GQkS"
      },
      "execution_count": 5,
      "outputs": []
    },
    {
      "cell_type": "code",
      "source": [
        "pip install scikit-learn"
      ],
      "metadata": {
        "colab": {
          "base_uri": "https://localhost:8080/"
        },
        "id": "20gEF_vbGvY_",
        "outputId": "91bf65fe-982b-4736-bb0c-afdc7bd56d90"
      },
      "execution_count": 6,
      "outputs": [
        {
          "output_type": "stream",
          "name": "stdout",
          "text": [
            "Requirement already satisfied: scikit-learn in /usr/local/lib/python3.10/dist-packages (1.2.2)\n",
            "Requirement already satisfied: numpy>=1.17.3 in /usr/local/lib/python3.10/dist-packages (from scikit-learn) (1.23.5)\n",
            "Requirement already satisfied: scipy>=1.3.2 in /usr/local/lib/python3.10/dist-packages (from scikit-learn) (1.11.3)\n",
            "Requirement already satisfied: joblib>=1.1.1 in /usr/local/lib/python3.10/dist-packages (from scikit-learn) (1.3.2)\n",
            "Requirement already satisfied: threadpoolctl>=2.0.0 in /usr/local/lib/python3.10/dist-packages (from scikit-learn) (3.2.0)\n"
          ]
        }
      ]
    },
    {
      "cell_type": "code",
      "source": [
        "df = pd.read_csv('/content/drive/MyDrive/dataset.csv', encoding='ISO-8859-1')\n",
        "df.shape\n",
        "\n",
        "half_size = len(df) // 5\n",
        "trimmed_df = df.head(half_size)\n",
        "trimmed_df.shape\n",
        "df=trimmed_df"
      ],
      "metadata": {
        "id": "VTsHO5CzGQmM"
      },
      "execution_count": 7,
      "outputs": []
    },
    {
      "cell_type": "code",
      "execution_count": 8,
      "metadata": {
        "colab": {
          "base_uri": "https://localhost:8080/"
        },
        "id": "Mqd0pGkuGL1o",
        "outputId": "eb53f501-ca39-4c60-ce95-474a81ff949e"
      },
      "outputs": [
        {
          "output_type": "execute_result",
          "data": {
            "text/plain": [
              "((180000, 2), (20000, 2))"
            ]
          },
          "metadata": {},
          "execution_count": 8
        }
      ],
      "source": [
        "from sklearn.model_selection import train_test_split\n",
        "train_df, test_df = train_test_split(df, test_size=0.10, shuffle=True)\n",
        "train_df.shape, test_df.shape"
      ]
    },
    {
      "cell_type": "code",
      "source": [
        "half_size = len(test_df) // 20\n",
        "trimmed_df = test_df.head(half_size)\n",
        "trimmed_df.shape\n",
        "df=trimmed_df\n",
        "df.shape"
      ],
      "metadata": {
        "colab": {
          "base_uri": "https://localhost:8080/"
        },
        "id": "QB_iaY5B0siO",
        "outputId": "24badff5-96eb-4716-9653-1b8b73ae17b9"
      },
      "execution_count": 9,
      "outputs": [
        {
          "output_type": "execute_result",
          "data": {
            "text/plain": [
              "(1000, 2)"
            ]
          },
          "metadata": {},
          "execution_count": 9
        }
      ]
    },
    {
      "cell_type": "code",
      "source": [
        "pip install sentencepiece\n"
      ],
      "metadata": {
        "colab": {
          "base_uri": "https://localhost:8080/"
        },
        "id": "72G3vc6q9on7",
        "outputId": "c53cf5bb-88e5-4e89-aa2d-7c61a8ab2058"
      },
      "execution_count": 10,
      "outputs": [
        {
          "output_type": "stream",
          "name": "stdout",
          "text": [
            "Collecting sentencepiece\n",
            "  Downloading sentencepiece-0.1.99-cp310-cp310-manylinux_2_17_x86_64.manylinux2014_x86_64.whl (1.3 MB)\n",
            "\u001b[2K     \u001b[90m━━━━━━━━━━━━━━━━━━━━━━━━━━━━━━━━━━━━━━━━\u001b[0m \u001b[32m1.3/1.3 MB\u001b[0m \u001b[31m7.8 MB/s\u001b[0m eta \u001b[36m0:00:00\u001b[0m\n",
            "\u001b[?25hInstalling collected packages: sentencepiece\n",
            "Successfully installed sentencepiece-0.1.99\n"
          ]
        }
      ]
    },
    {
      "cell_type": "code",
      "source": [
        "from transformers.tools.agents import AutoTokenizer\n",
        "import torch\n",
        "from transformers import T5Tokenizer, T5ForConditionalGeneration, AutoTokenizer\n",
        "model_name = '/content/drive/MyDrive/t5-small-finetuned-full/t5-small.zip'\n",
        "torch_device = 'cuda' if torch.cuda.is_available() else 'cpu'\n",
        "tokenizer = AutoTokenizer.from_pretrained(model_name)\n",
        "model = T5ForConditionalGeneration.from_pretrained(model_name).to(torch_device)\n"
      ],
      "metadata": {
        "id": "1b6sWeVKG1U2"
      },
      "execution_count": 16,
      "outputs": []
    },
    {
      "cell_type": "code",
      "source": [
        "df.describe"
      ],
      "metadata": {
        "colab": {
          "base_uri": "https://localhost:8080/"
        },
        "id": "efDBVt3uyQbX",
        "outputId": "ee689afd-de60-4190-8661-345f44f33e60"
      },
      "execution_count": 17,
      "outputs": [
        {
          "output_type": "execute_result",
          "data": {
            "text/plain": [
              "<bound method NDFrame.describe of                                                     input  \\\n",
              "92841      'J 351 malaria,I filaria & pest control staff.   \n",
              "56513   This does not include homes that the big banks...   \n",
              "12905   Double Day Bed Make Through Storage Intended F...   \n",
              "11002   politicians and government Bureaucrat s are in...   \n",
              "111956  Responsible for members alone which foreman on...   \n",
              "...                                                   ...   \n",
              "154783  The perest hyaluranic acid of nonanimal origin...   \n",
              "73615   Bees defender Julian Jeanvier had put the host...   \n",
              "70995   They invented metalworking, copper-working, gl...   \n",
              "10331   This plant grow in a compact way with a very s...   \n",
              "168301  In the individual events, Brad Tandy finished ...   \n",
              "\n",
              "                                                   output  \n",
              "92841        J 351 malaria, filaria & pest control staff.  \n",
              "56513   This does not include homes that the big banks...  \n",
              "12905   Double Day Bed Daybed With Storage Intended Fo...  \n",
              "11002   politicians and government bureaucrats are inf...  \n",
              "111956  Responsible for work allocated from foreman on...  \n",
              "...                                                   ...  \n",
              "154783  The purest hyaluronic acid of non-animal origi...  \n",
              "73615   Bees defender Julian Jeanvier had given the ho...  \n",
              "70995   They invented metalworking, copper-working, gl...  \n",
              "10331   This plant grows in a compact way with a very ...  \n",
              "168301  In the individual events, Brad Tandy finished ...  \n",
              "\n",
              "[1000 rows x 2 columns]>"
            ]
          },
          "metadata": {},
          "execution_count": 17
        }
      ]
    },
    {
      "cell_type": "code",
      "source": [
        "def correct_grammar(input_text,num_return_sequences=1):\n",
        "  device = torch.device(\"cuda\" if torch.cuda.is_available() else \"cuda\")\n",
        "  batch = tokenizer([input_text],truncation=True,padding='max_length',max_length=64, return_tensors=\"pt\").to(torch_device)\n",
        "  translated = model.generate(**batch,max_length=64,num_beams=4, num_return_sequences=num_return_sequences)\n",
        "  tgt_text = tokenizer.batch_decode(translated, skip_special_tokens=True)\n",
        "  return tgt_text[0]"
      ],
      "metadata": {
        "id": "_pMBujeMayYN"
      },
      "execution_count": 18,
      "outputs": []
    },
    {
      "cell_type": "code",
      "source": [],
      "metadata": {
        "id": "iMbnIgB01OCL"
      },
      "execution_count": null,
      "outputs": []
    },
    {
      "cell_type": "code",
      "source": [
        "import pandas as pd\n",
        "\n",
        "# Create a new DataFrame by applying the function to each row of the original DataFrame 'df'\n",
        "new_df = df.copy()  # Copy the original DataFrame to a new one\n",
        "\n",
        "# Define the function to correct grammar\n",
        "def correct_grammar_for_row(row):\n",
        "    row['output_predicted'] = correct_grammar(row['input'], num_return_sequences=1)\n",
        "    return row\n",
        "\n",
        "# Apply the function to the new DataFrame\n",
        "new_df = new_df.apply(correct_grammar_for_row, axis=1)\n",
        "\n",
        "# Print the new DataFrame\n",
        "print(new_df)\n"
      ],
      "metadata": {
        "id": "TGReCRDIh4bC",
        "colab": {
          "base_uri": "https://localhost:8080/"
        },
        "outputId": "6cdc4a29-048f-4487-89e1-eaeb7fb1f02c"
      },
      "execution_count": 19,
      "outputs": [
        {
          "output_type": "stream",
          "name": "stdout",
          "text": [
            "                                                    input  \\\n",
            "92841      'J 351 malaria,I filaria & pest control staff.   \n",
            "56513   This does not include homes that the big banks...   \n",
            "12905   Double Day Bed Make Through Storage Intended F...   \n",
            "11002   politicians and government Bureaucrat s are in...   \n",
            "111956  Responsible for members alone which foreman on...   \n",
            "...                                                   ...   \n",
            "154783  The perest hyaluranic acid of nonanimal origin...   \n",
            "73615   Bees defender Julian Jeanvier had put the host...   \n",
            "70995   They invented metalworking, copper-working, gl...   \n",
            "10331   This plant grow in a compact way with a very s...   \n",
            "168301  In the individual events, Brad Tandy finished ...   \n",
            "\n",
            "                                                   output  \\\n",
            "92841        J 351 malaria, filaria & pest control staff.   \n",
            "56513   This does not include homes that the big banks...   \n",
            "12905   Double Day Bed Daybed With Storage Intended Fo...   \n",
            "11002   politicians and government bureaucrats are inf...   \n",
            "111956  Responsible for work allocated from foreman on...   \n",
            "...                                                   ...   \n",
            "154783  The purest hyaluronic acid of non-animal origi...   \n",
            "73615   Bees defender Julian Jeanvier had given the ho...   \n",
            "70995   They invented metalworking, copper-working, gl...   \n",
            "10331   This plant grows in a compact way with a very ...   \n",
            "168301  In the individual events, Brad Tandy finished ...   \n",
            "\n",
            "                                         output_predicted  \n",
            "92841      'J 351 malaria,I filaria & pest control staff.  \n",
            "56513   This does not include homes that the big banks...  \n",
            "12905   Double Day Bed Make Through Storage Intended F...  \n",
            "11002   Politicians and government Bureaucrats are inf...  \n",
            "111956  Responsible for members alone which are respon...  \n",
            "...                                                   ...  \n",
            "154783  The perest hyaluranic acid of nonanimal origin...  \n",
            "73615   Bees defender Julian Jeanvier had put the host...  \n",
            "70995   They invented metalworking, copper-working, gl...  \n",
            "10331   This plant grows in a compact way with a very ...  \n",
            "168301  In the individual events, Brad Tandy finished ...  \n",
            "\n",
            "[1000 rows x 3 columns]\n"
          ]
        }
      ]
    },
    {
      "cell_type": "code",
      "source": [
        "df.to_csv('datafinal-t5small.csv', index=False)  # Set index=False to exclude the index column\n"
      ],
      "metadata": {
        "id": "bEvynjBj_WNC"
      },
      "execution_count": 21,
      "outputs": []
    },
    {
      "cell_type": "code",
      "source": [],
      "metadata": {
        "id": "ziCzaM8LMypv"
      },
      "execution_count": null,
      "outputs": []
    },
    {
      "cell_type": "code",
      "source": [],
      "metadata": {
        "id": "_jnyo5nPNP8l"
      },
      "execution_count": null,
      "outputs": []
    },
    {
      "cell_type": "code",
      "source": [],
      "metadata": {
        "id": "NxIF5EGINtQ4"
      },
      "execution_count": null,
      "outputs": []
    },
    {
      "cell_type": "code",
      "source": [],
      "metadata": {
        "id": "0-VIlIGI_zfz"
      },
      "execution_count": null,
      "outputs": []
    },
    {
      "cell_type": "code",
      "source": [],
      "metadata": {
        "id": "NPrg2yrJAQy-"
      },
      "execution_count": null,
      "outputs": []
    },
    {
      "cell_type": "code",
      "source": [],
      "metadata": {
        "id": "szWpfI1MAuFz"
      },
      "execution_count": null,
      "outputs": []
    },
    {
      "cell_type": "code",
      "source": [],
      "metadata": {
        "id": "3fH6RaH6BLY8"
      },
      "execution_count": null,
      "outputs": []
    },
    {
      "cell_type": "code",
      "source": [],
      "metadata": {
        "id": "lvkHA0P8Bor6"
      },
      "execution_count": null,
      "outputs": []
    },
    {
      "cell_type": "code",
      "source": [],
      "metadata": {
        "id": "SoUlSMIUCF-_"
      },
      "execution_count": null,
      "outputs": []
    },
    {
      "cell_type": "code",
      "source": [
        "import pandas as pd\n",
        "import Levenshtein\n",
        "\n",
        "\n",
        "\n",
        "# Function to calculate Levenshtein distance and similarity score\n",
        "def calculate_similarity(row):\n",
        "    original_output = row[\"output\"]\n",
        "    predicted_output = row[\"output_predicted\"]\n",
        "\n",
        "    # Calculate the Levenshtein distance\n",
        "    distance = Levenshtein.distance(original_output, predicted_output)\n",
        "\n",
        "    # Calculate a similarity score (normalized Levenshtein similarity)\n",
        "    max_len = max(len(original_output), len(predicted_output))\n",
        "    similarity = 1 - (distance / max_len)\n",
        "\n",
        "    return similarity\n",
        "\n",
        "# Apply the calculate_similarity function to each row and store the result in a new column\n",
        "new_df['similarity_score'] = new_df.apply(calculate_similarity, axis=1)\n",
        "\n",
        "# Print the DataFrame with the similarity scores\n",
        "print(new_df)"
      ],
      "metadata": {
        "id": "_mRyd1LnHq0-",
        "colab": {
          "base_uri": "https://localhost:8080/"
        },
        "outputId": "f9124bd5-667b-45fc-ff65-3d87247c6cfe"
      },
      "execution_count": 22,
      "outputs": [
        {
          "output_type": "stream",
          "name": "stdout",
          "text": [
            "                                                    input  \\\n",
            "92841      'J 351 malaria,I filaria & pest control staff.   \n",
            "56513   This does not include homes that the big banks...   \n",
            "12905   Double Day Bed Make Through Storage Intended F...   \n",
            "11002   politicians and government Bureaucrat s are in...   \n",
            "111956  Responsible for members alone which foreman on...   \n",
            "...                                                   ...   \n",
            "154783  The perest hyaluranic acid of nonanimal origin...   \n",
            "73615   Bees defender Julian Jeanvier had put the host...   \n",
            "70995   They invented metalworking, copper-working, gl...   \n",
            "10331   This plant grow in a compact way with a very s...   \n",
            "168301  In the individual events, Brad Tandy finished ...   \n",
            "\n",
            "                                                   output  \\\n",
            "92841        J 351 malaria, filaria & pest control staff.   \n",
            "56513   This does not include homes that the big banks...   \n",
            "12905   Double Day Bed Daybed With Storage Intended Fo...   \n",
            "11002   politicians and government bureaucrats are inf...   \n",
            "111956  Responsible for work allocated from foreman on...   \n",
            "...                                                   ...   \n",
            "154783  The purest hyaluronic acid of non-animal origi...   \n",
            "73615   Bees defender Julian Jeanvier had given the ho...   \n",
            "70995   They invented metalworking, copper-working, gl...   \n",
            "10331   This plant grows in a compact way with a very ...   \n",
            "168301  In the individual events, Brad Tandy finished ...   \n",
            "\n",
            "                                         output_predicted  similarity_score  \n",
            "92841      'J 351 malaria,I filaria & pest control staff.          0.956522  \n",
            "56513   This does not include homes that the big banks...          1.000000  \n",
            "12905   Double Day Bed Make Through Storage Intended F...          0.828125  \n",
            "11002   Politicians and government Bureaucrats are inf...          0.971429  \n",
            "111956  Responsible for members alone which are respon...          0.592105  \n",
            "...                                                   ...               ...  \n",
            "154783  The perest hyaluranic acid of nonanimal origin...          0.951417  \n",
            "73615   Bees defender Julian Jeanvier had put the host...          0.878924  \n",
            "70995   They invented metalworking, copper-working, gl...          0.932886  \n",
            "10331   This plant grows in a compact way with a very ...          0.848837  \n",
            "168301  In the individual events, Brad Tandy finished ...          0.736000  \n",
            "\n",
            "[1000 rows x 4 columns]\n"
          ]
        }
      ]
    },
    {
      "cell_type": "code",
      "source": [
        "average_similarity = new_df['similarity_score'].mean()\n",
        "print(average_similarity)"
      ],
      "metadata": {
        "id": "H5F0Z76Z9s40",
        "colab": {
          "base_uri": "https://localhost:8080/"
        },
        "outputId": "c3419787-1702-48a6-8cd7-f5fd09fc8231"
      },
      "execution_count": 23,
      "outputs": [
        {
          "output_type": "stream",
          "name": "stdout",
          "text": [
            "0.8490550393765096\n"
          ]
        }
      ]
    },
    {
      "cell_type": "code",
      "source": [],
      "metadata": {
        "id": "Xs7KeohV8FfR"
      },
      "execution_count": null,
      "outputs": []
    },
    {
      "cell_type": "code",
      "source": [],
      "metadata": {
        "id": "YaJxivol8FuS"
      },
      "execution_count": null,
      "outputs": []
    }
  ]
}